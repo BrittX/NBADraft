{
 "cells": [
  {
   "cell_type": "code",
   "execution_count": 3,
   "metadata": {
    "collapsed": false
   },
   "outputs": [
    {
     "name": "stderr",
     "output_type": "stream",
     "text": [
      "C:\\Users\\siber\\Anaconda3\\lib\\site-packages\\ipykernel\\__main__.py:26: SettingWithCopyWarning: \n",
      "A value is trying to be set on a copy of a slice from a DataFrame.\n",
      "Try using .loc[row_indexer,col_indexer] = value instead\n",
      "\n",
      "See the caveats in the documentation: http://pandas.pydata.org/pandas-docs/stable/indexing.html#indexing-view-versus-copy\n"
     ]
    },
    {
     "name": "stdout",
     "output_type": "stream",
     "text": [
      "{2: 2501, 3: 321, 0: 434, 1: 163}\n",
      "{0: 2501, 1: 321, 3: 434, 2: 163}\n"
     ]
    },
    {
     "data": {
      "text/plain": [
       "<matplotlib.axes._subplots.AxesSubplot at 0x28a710c7b00>"
      ]
     },
     "execution_count": 3,
     "metadata": {},
     "output_type": "execute_result"
    },
    {
     "data": {
      "image/png": "[encoded data removed]",
      "text/plain": [
       "<matplotlib.figure.Figure at 0x28a6efe5c18>"
      ]
     },
     "metadata": {},
     "output_type": "display_data"
    }
   ],
   "source": [
    "%matplotlib inline\n",
    "import pandas as pd\n",
    "import matplotlib.pyplot as plt\n",
    "from sklearn.cluster import KMeans\n",
    "\n",
    "\n",
    "df = pd.read_csv(\"draftInfo.csv\")\n",
    "df.head()\n",
    "df1 = df.drop([\"Year\", \"Player\", \"Position\", \"NBA Team\", \"Prev Team\", ], axis=1)\n",
    "df1.head()\n",
    "\n",
    "\n",
    "# Get specific columns\n",
    "games = df1[['Round', 'Pick', 'Games Started', 'Games Played', 'Minutes']]\n",
    "games_clust = KMeans(n_clusters=4)\n",
    "games_clust.fit(games)\n",
    "gc = games_clust.fit_predict(games)\n",
    "# Do it on everything\n",
    "all_clust = KMeans(n_clusters=4)\n",
    "all_clust.fit(df1)\n",
    "ac = all_clust.fit_predict(df1)\n",
    "\n",
    "\n",
    "\n",
    "# Create new column for cluster\n",
    "games[\"GCluster\"] = gc\n",
    "df1[\"Cluster\"] = ac\n",
    "\n",
    "all_val = {}\n",
    "val = {} # Store number in each cluster\n",
    "for clust in games[\"GCluster\"]:\n",
    "    val[clust] = val.get(clust, 0) + 1\n",
    "\n",
    "for clust in df1[\"Cluster\"]:\n",
    "    all_val[clust] = all_val.get(clust, 0) + 1\n",
    "    \n",
    "print(val)\n",
    "print(all_val)\n",
    "\n",
    "'''\n",
    "# df1.plot(kind='scatter', x='Round', y='Points Per Game')\n",
    "games.plot(kind='scatter', x='GCluster', y='Minutes')\n",
    "games.plot(kind='scatter', x='GCluster', y='Games Started')\n",
    "games.plot(kind='scatter', x= 'GCluster', y='Games Played')\n",
    "games.plot(kind='scatter', x='GCluster', y='Round')\n",
    "games.plot(kind='scatter', x='GCluster', y='Pick')\n",
    "'''\n",
    "# For everything together\n",
    "df1.plot(kind='scatter', x='Cluster', y='Points Per Game')\n",
    "#df1.plot(kind='scatter', x='Cluster', y='Pick')\n",
    "#df1.plot(kind='scatter', x='Cluster', y='Round')\n",
    "#df1.plot(kind='scatter', x='Cluster', y='Minutes')\n",
    "# df1.plot(kind='scatter', x='Cluster', y=[\"Round\", \"Pick\", \"Games Played\"])"
   ]
  },
  {
   "cell_type": "code",
   "execution_count": null,
   "metadata": {
    "collapsed": true
   },
   "outputs": [],
   "source": [
    "%matplotlib inline"
   ]
  },
  {
   "cell_type": "code",
   "execution_count": null,
   "metadata": {
    "collapsed": true
   },
   "outputs": [],
   "source": []
  }
 ],
 "metadata": {
  "kernelspec": {
   "display_name": "Python 3",
   "language": "python",
   "name": "python3"
  },
  "language_info": {
   "codemirror_mode": {
    "name": "ipython",
    "version": 3
   },
   "file_extension": ".py",
   "mimetype": "text/x-python",
   "name": "python",
   "nbconvert_exporter": "python",
   "pygments_lexer": "ipython3",
   "version": "3.6.0"
  }
 },
 "nbformat": 4,
 "nbformat_minor": 2
}
